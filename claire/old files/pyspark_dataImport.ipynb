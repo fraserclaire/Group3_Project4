{
  "nbformat": 4,
  "nbformat_minor": 0,
  "metadata": {
    "colab": {
      "provenance": []
    },
    "kernelspec": {
      "name": "python3",
      "display_name": "Python 3"
    },
    "language_info": {
      "name": "python"
    }
  },
  "cells": [
    {
      "cell_type": "code",
      "execution_count": null,
      "metadata": {
        "id": "HuHVLiCTY54e"
      },
      "outputs": [],
      "source": [
        "# Import dependencies and initialize findspark\n",
        "import os\n",
        "# Find the latest version of spark 3.x  from https://downloads.apache.org/spark/ and enter as the spark version\n",
        "# For example:\n",
        "# spark_version = 'spark-3.5.1'\n",
        "spark_version = 'spark-3.5.1'\n",
        "os.environ['SPARK_VERSION']=spark_version\n",
        "\n",
        "# Install Spark and Java\n",
        "!apt-get update\n",
        "!apt-get install openjdk-11-jdk-headless -qq > /dev/null\n",
        "!wget -q https://downloads.apache.org/spark/$SPARK_VERSION/$SPARK_VERSION-bin-hadoop3.tgz\n",
        "!tar xf $SPARK_VERSION-bin-hadoop3.tgz\n",
        "!pip install -q findspark\n",
        "\n",
        "# Set Environment Variables\n",
        "os.environ[\"JAVA_HOME\"] = \"/usr/lib/jvm/java-11-openjdk-amd64\"\n",
        "os.environ[\"SPARK_HOME\"] = f\"/content/{spark_version}-bin-hadoop3\"\n",
        "\n",
        "# Start a SparkSession\n",
        "import findspark\n",
        "findspark.init()\n",
        "\n",
        "from pyspark.sql import SparkSession\n",
        "from pyspark import SparkFiles"
      ]
    },
    {
      "cell_type": "code",
      "source": [
        "# Read in datasets from github\n",
        "url = \"<insert_pathtocsv_here>.csv\"\n",
        "spark.sparkContext.addFile(url)\n",
        "cancer_model = spark.read.csv(SparkFiles.get(\"<insert_csvname_here>.csv\"), sep=\",\", header=True)"
      ],
      "metadata": {
        "id": "bGFLWE-5ZFKN"
      },
      "execution_count": null,
      "outputs": []
    },
    {
      "cell_type": "code",
      "source": [
        "# Create a view for cancer dataset\n",
        "cancer_model.createOrReplaceTempView('cancer')\n",
        "spark.sql(\"\"\"SELECT * FROM  cancer\"\"\").show()"
      ],
      "metadata": {
        "id": "bTX434ZUaHNd"
      },
      "execution_count": null,
      "outputs": []
    },
    {
      "cell_type": "code",
      "source": [
        "# Read in datasets from github\n",
        "url2 = \"<insert_pathtocsv_here>.csv\"\n",
        "spark.sparkContext.addFile(url2)\n",
        "weather_model = spark.read.csv(SparkFiles.get(\"<insert_csvname_here>.csv\"), sep=\",\", header=True)\n",
        "\n",
        "# Create a view for weather dataset\n",
        "weather_model.createOrReplaceTempView('weather')\n",
        "spark.sql(\"\"\"SELECT * FROM  weather\"\"\").show()"
      ],
      "metadata": {
        "id": "o5hbdB4Xdzrm"
      },
      "execution_count": null,
      "outputs": []
    },
    {
      "cell_type": "code",
      "source": [],
      "metadata": {
        "id": "E9cecCE0aqRw"
      },
      "execution_count": null,
      "outputs": []
    }
  ]
}